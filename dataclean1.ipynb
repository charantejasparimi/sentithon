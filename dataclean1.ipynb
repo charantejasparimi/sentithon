{
  "nbformat": 4,
  "nbformat_minor": 0,
  "metadata": {
    "colab": {
      "provenance": []
    },
    "kernelspec": {
      "name": "python3",
      "display_name": "Python 3"
    },
    "language_info": {
      "name": "python"
    }
  },
  "cells": [
    {
      "cell_type": "code",
      "execution_count": 1,
      "metadata": {
        "colab": {
          "base_uri": "https://localhost:8080/"
        },
        "id": "d7wpdAE3ndT7",
        "outputId": "6dacc0e1-6f77-4eb9-95f4-6f6b1e62c234"
      },
      "outputs": [
        {
          "output_type": "stream",
          "name": "stdout",
          "text": [
            "Looking in indexes: https://pypi.org/simple, https://us-python.pkg.dev/colab-wheels/public/simple/\n",
            "Requirement already satisfied: scipy in /usr/local/lib/python3.8/dist-packages (1.7.3)\n",
            "Requirement already satisfied: numpy<1.23.0,>=1.16.5 in /usr/local/lib/python3.8/dist-packages (from scipy) (1.21.6)\n"
          ]
        }
      ],
      "source": [
        "pip install scipy"
      ]
    },
    {
      "cell_type": "code",
      "source": [
        "pip install pytorch-transformers"
      ],
      "metadata": {
        "id": "CwqEq32cnjXl"
      },
      "execution_count": null,
      "outputs": []
    },
    {
      "cell_type": "code",
      "source": [
        "pip install transformers"
      ],
      "metadata": {
        "id": "qyJNOu2Enjql"
      },
      "execution_count": null,
      "outputs": []
    },
    {
      "cell_type": "code",
      "source": [
        "import math\n",
        "import pandas as pd"
      ],
      "metadata": {
        "id": "05I5sjLHnj2d"
      },
      "execution_count": 4,
      "outputs": []
    },
    {
      "cell_type": "code",
      "source": [
        "df=pd.read_csv(\"/content/merge1.csv\")\n",
        "data=df['Tweet']"
      ],
      "metadata": {
        "id": "3MNb6jmHnkCQ"
      },
      "execution_count": 5,
      "outputs": []
    },
    {
      "cell_type": "code",
      "source": [
        "from transformers import AutoTokenizer, AutoModelForSequenceClassification\n",
        "from scipy.special import softmax"
      ],
      "metadata": {
        "id": "N3gEj7qFn0Y2"
      },
      "execution_count": 6,
      "outputs": []
    },
    {
      "cell_type": "code",
      "source": [
        "import re\n",
        "emoji_pattern = re.compile(\"[\"\n",
        "        u\"\\U0001F600-\\U0001F64F\"  # emoticons\n",
        "        u\"\\U0001F300-\\U0001F5FF\"  # symbols & pictographs\n",
        "        u\"\\U0001F680-\\U0001F6FF\"  # transport & map symbols\n",
        "        u\"\\U0001F1E0-\\U0001F1FF\"  # flags (iOS)\n",
        "        u\"\\U0001F600-\\U0001F64F\"   #other languages\n",
        "        u\"\\U00000531-\\U00000DF4\"     \n",
        "        u\"\\U00000900-\\U0000097F\"\n",
        "        u\"\\U00000021\"                    #to remove !,$,? etc....      \n",
        "        u\"\\U0000003F\"\n",
        "        u\"\\U0000005F\"\n",
        "        u\"\\U00000022\"\n",
        "        u\"\\U0000003A\"       \n",
        "        u\"\\U0000003B\"     \n",
        "                           \"]+\", flags=re.UNICODE)\n",
        "for i in range(len(data)):\n",
        "  data[i]=emoji_pattern.sub(r'',data[i])"
      ],
      "metadata": {
        "id": "10yuPaoFou9Y"
      },
      "execution_count": null,
      "outputs": []
    },
    {
      "cell_type": "code",
      "source": [
        "dt=data.to_csv(\"/content/data2.csv\")"
      ],
      "metadata": {
        "id": "M0A60LMJoMwA"
      },
      "execution_count": 8,
      "outputs": []
    }
  ]
}