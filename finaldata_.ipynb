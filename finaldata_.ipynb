{
  "nbformat": 4,
  "nbformat_minor": 0,
  "metadata": {
    "colab": {
      "provenance": []
    },
    "kernelspec": {
      "name": "python3",
      "display_name": "Python 3"
    },
    "language_info": {
      "name": "python"
    }
  },
  "cells": [
    {
      "cell_type": "code",
      "execution_count": null,
      "metadata": {
        "id": "a--k3OgGJtto"
      },
      "outputs": [],
      "source": [
        "pip install transformers"
      ]
    },
    {
      "cell_type": "code",
      "source": [
        "pip install scipy"
      ],
      "metadata": {
        "id": "yIUJyMG5J1Ax"
      },
      "execution_count": null,
      "outputs": []
    },
    {
      "cell_type": "code",
      "source": [
        "import math\n",
        "import pandas as pd"
      ],
      "metadata": {
        "id": "s20qYXhsJ4P1"
      },
      "execution_count": 4,
      "outputs": []
    },
    {
      "cell_type": "code",
      "source": [
        "pip install pytorch-transformers"
      ],
      "metadata": {
        "id": "76D1F76HJynu"
      },
      "execution_count": null,
      "outputs": []
    },
    {
      "cell_type": "code",
      "source": [
        "df=pd.read_csv(\"/content/data11.csv\")\n",
        "data=df['Tweet']"
      ],
      "metadata": {
        "id": "f0-_P14_KXYB"
      },
      "execution_count": 108,
      "outputs": []
    },
    {
      "cell_type": "code",
      "source": [
        "from transformers import AutoTokenizer, AutoModelForSequenceClassification\n",
        "from scipy.special import softmax"
      ],
      "metadata": {
        "id": "EORVinHlDKnr"
      },
      "execution_count": 90,
      "outputs": []
    },
    {
      "cell_type": "code",
      "source": [
        "roberta = \"cardiffnlp/twitter-roberta-base-sentiment\"\n",
        "\n",
        "model = AutoModelForSequenceClassification.from_pretrained(roberta)\n",
        "tokenizer = AutoTokenizer.from_pretrained(roberta)\n",
        "\n",
        "labels = ['Negative', 'Neutral', 'Positive']\n",
        "a=0\n",
        "b=0\n",
        "c=0\n",
        "aa=0\n",
        "bb=0\n",
        "cc=0\n",
        "cnt1=0\n",
        "cnt2=0\n",
        "cnt3=0\n",
        "# sentiment analysis\n",
        "for x in range(len(data)):\n",
        "  encoded_tweet = tokenizer(data[x], return_tensors='pt')\n",
        "  #output = model(encoded_tweet['input_ids'], encoded_tweet['attention_mask'])\n",
        "  output = model(**encoded_tweet)\n",
        "  scores = output[0][0].detach().numpy()\n",
        "  scores = softmax(scores) \n",
        "  a=scores[0]\n",
        "  b=scores[1]\n",
        "  c=scores[2]\n",
        "  aa=scores[0]\n",
        "  bb=scores[1]\n",
        "  cc=scores[2]\n",
        "  if(a>b and a>c):\n",
        "    cnt1+=1\n",
        "  elif(b>a and b>c):\n",
        "    cnt2+=1\n",
        "  else:\n",
        "    cnt3+=1 \n",
        "  aa+=scores[0]\n",
        "  bb+=scores[1]\n",
        "  cc+=scores[2]\n",
        "aa=aa/len(data)\n",
        "bb=bb/len(data)\n",
        "cc=cc/len(data)\n",
        "l = labels[0]\n",
        "print(l,a)\n",
        "l = labels[1]\n",
        "print(l,b)\n",
        "l = labels[2]\n",
        "print(l,c)\n",
        "l = labels[0]\n",
        "print(l,cnt1,\"votes\")\n",
        "l = labels[1]\n",
        "print(l,cnt2,\"votes\")\n",
        "l = labels[2]\n",
        "print(l,cnt3,\"votes\")\n"
      ],
      "metadata": {
        "id": "VGromY8wKKm9"
      },
      "execution_count": null,
      "outputs": []
    },
    {
      "cell_type": "code",
      "source": [
        "x = np.array([\"negative\",\"neutral\",\"positive\"])\n",
        "y = np.array([cnt1,cnt2,cnt3])\n",
        "plt.bar(x, y, color = \"hotpink\")\n",
        "plt.title(\"Sentiment Analysis of Data\")\n",
        "plt.xlabel(\"Tweets\")\n",
        "plt.ylabel(\"Votes\")\n",
        "plt.show()"
      ],
      "metadata": {
        "colab": {
          "base_uri": "https://localhost:8080/",
          "height": 295
        },
        "id": "mpgyJ4WR-jMF",
        "outputId": "e5328ff4-cc9c-4d55-e8f4-2e42786414b8"
      },
      "execution_count": 94,
      "outputs": [
        {
          "output_type": "display_data",
          "data": {
            "text/plain": [
              "<Figure size 432x288 with 1 Axes>"
            ],
            "image/png": "[encoded data removed]"
          },
          "metadata": {
            "needs_background": "light"
          }
        }
      ]
    },
    {
      "cell_type": "code",
      "source": [
        "from matplotlib import pyplot as plt\n",
        "import numpy as np\n",
        "p = ['negative', 'neutral', 'positive']\n",
        "neg=aa*1000000\n",
        "neu=bb*1000000\n",
        "pos=cc*1000000\n",
        "data = [neg,neu,pos]\n",
        " \n",
        "# Creating plot\n",
        "mycolors = [\"blue\", \"orange\", \"green\"]\n",
        "fig = plt.figure(figsize =(10, 7))\n",
        "plt.pie(data, labels = p,shadow = True,colors=mycolors)\n",
        "plt.legend(title=\"legend\")\n",
        "plt.title(\"sentithon analysis\")\n",
        "# show plot\n",
        "plt.show()"
      ],
      "metadata": {
        "colab": {
          "base_uri": "https://localhost:8080/",
          "height": 427
        },
        "id": "jDkb21jX5hRg",
        "outputId": "7c5d7165-a3cb-49d7-bfc3-bc6292c3e47d"
      },
      "execution_count": 100,
      "outputs": [
        {
          "output_type": "display_data",
          "data": {
            "text/plain": [
              "<Figure size 720x504 with 1 Axes>"
            ],
            "image/png": "[encoded data removed]"
          },
          "metadata": {}
        }
      ]
    }
  ]
}