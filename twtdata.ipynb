{
  "nbformat": 4,
  "nbformat_minor": 0,
  "metadata": {
    "colab": {
      "provenance": []
    },
    "kernelspec": {
      "name": "python3",
      "display_name": "Python 3"
    },
    "language_info": {
      "name": "python"
    }
  },
  "cells": [
    {
      "cell_type": "code",
      "source": [
        "pip install snscrape"
      ],
      "metadata": {
        "id": "VhVRGdLUqQ_-"
      },
      "execution_count": null,
      "outputs": []
    },
    {
      "cell_type": "code",
      "source": [
        "import snscrape.modules.twitter as sntwitter\n"
      ],
      "metadata": {
        "id": "dFR6nnKfqQhB"
      },
      "execution_count": 5,
      "outputs": []
    },
    {
      "cell_type": "code",
      "source": [
        "import pandas as pd"
      ],
      "metadata": {
        "id": "I4-92SZEqQvY"
      },
      "execution_count": 6,
      "outputs": []
    },
    {
      "cell_type": "code",
      "execution_count": null,
      "metadata": {
        "id": "_zR6QRvbqDiA"
      },
      "outputs": [],
      "source": [
        "query = \"digitalrupee (#digitalrupee OR #digital OR  #cbdc OR #india OR #erupee OR #centralbankdigitalcurrency OR #crypto)  until:2022-12-09 since:2022-01-20  \"\n",
        "tweets = []\n",
        "limit =3000\n",
        "\n",
        "   #  extract data from  twitter by advance search\n",
        "for tweet in sntwitter.TwitterSearchScraper(query).get_items():\n",
        "    \n",
        "    # print(vars(tweet))\n",
        "    # break\n",
        "    if len(tweets) == limit:\n",
        "        break\n",
        "    else:\n",
        "        tweets.append([tweet.date, tweet.username, tweet.content])\n",
        "        \n",
        "df = pd.DataFrame(tweets, columns=['Date', 'User', 'Tweet'])\n",
        "print(df)"
      ]
    },
    {
      "cell_type": "code",
      "source": [
        "# to save to csv\n",
        "df.to_csv('twtdata.csv')"
      ],
      "metadata": {
        "id": "XE6A6l-iq9ED"
      },
      "execution_count": 21,
      "outputs": []
    }
  ]
}